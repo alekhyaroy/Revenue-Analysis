{
  "nbformat": 4,
  "nbformat_minor": 0,
  "metadata": {
    "colab": {
      "name": "Samsung_REVENUE (1).ipynb",
      "provenance": [],
      "collapsed_sections": []
    },
    "kernelspec": {
      "display_name": "Python 3",
      "language": "python",
      "name": "python3"
    },
    "language_info": {
      "codemirror_mode": {
        "name": "ipython",
        "version": 3
      },
      "file_extension": ".py",
      "mimetype": "text/x-python",
      "name": "python",
      "nbconvert_exporter": "python",
      "pygments_lexer": "ipython3",
      "version": "3.8.5"
    }
  },
  "cells": [
    {
      "cell_type": "code",
      "metadata": {
        "id": "wcOOSyUHel9l"
      },
      "source": [
        "%matplotlib qt5\n",
        "\n",
        "\n",
        "import pandas as pd\n",
        "import matplotlib.pyplot as plt\n",
        "import matplotlib.dates as mdates\n",
        "from matplotlib.dates import DateFormatter\n",
        "import datetime"
      ],
      "execution_count": null,
      "outputs": []
    },
    {
      "cell_type": "code",
      "metadata": {
        "colab": {
          "base_uri": "https://localhost:8080/"
        },
        "id": "idgN24P6el9m",
        "scrolled": true,
        "outputId": "3e4dc741-8279-474a-f082-791f7f32c1b1"
      },
      "source": [
        "data = pd.read_excel(r\"C:/Users/royal/Documents/Internship/samsung_rev.xlsx\")\n",
        "\n",
        "year = data['YEAR']\n",
        "revenue = data['REVENUE (in Million USD)']\n",
        "print(year, revenue)"
      ],
      "execution_count": null,
      "outputs": [
        {
          "output_type": "stream",
          "text": [
            "0    2011-03-01\n",
            "1    2011-06-01\n",
            "2    2011-09-01\n",
            "3    2011-12-01\n",
            "4    2012-03-01\n",
            "5    2012-06-01\n",
            "6    2012-09-01\n",
            "7    2012-12-01\n",
            "8    2013-03-01\n",
            "9    2013-06-01\n",
            "10   2013-09-01\n",
            "11   2013-12-01\n",
            "12   2014-03-01\n",
            "13   2014-06-01\n",
            "14   2014-09-01\n",
            "15   2014-12-01\n",
            "16   2015-03-01\n",
            "17   2015-06-01\n",
            "18   2015-09-01\n",
            "19   2015-12-01\n",
            "20   2016-03-01\n",
            "21   2016-06-01\n",
            "22   2016-09-01\n",
            "23   2016-12-01\n",
            "24   2017-03-01\n",
            "25   2017-06-01\n",
            "26   2017-09-01\n",
            "27   2017-12-01\n",
            "28   2018-03-01\n",
            "29   2018-06-01\n",
            "30   2018-09-01\n",
            "31   2018-12-01\n",
            "32   2019-03-01\n",
            "33   2019-06-01\n",
            "34   2019-09-01\n",
            "35   2019-12-01\n",
            "36   2020-03-01\n",
            "37   2020-06-01\n",
            "38   2020-09-01\n",
            "Name: YEAR, dtype: datetime64[ns] 0     34498\n",
            "1     36689\n",
            "2     38386\n",
            "3     43996\n",
            "4     42186\n",
            "5     44275\n",
            "6     48530\n",
            "7     52141\n",
            "8     49172\n",
            "9     53446\n",
            "10    54946\n",
            "11    55137\n",
            "12    49920\n",
            "13    48736\n",
            "14    44137\n",
            "15    49040\n",
            "16    43824\n",
            "17    45149\n",
            "18    48060\n",
            "19    49591\n",
            "20    46320\n",
            "21    47378\n",
            "22    44473\n",
            "23    49600\n",
            "24    47012\n",
            "25    56730\n",
            "26    57712\n",
            "27    61362\n",
            "28    56932\n",
            "29    52291\n",
            "30    57352\n",
            "31    53050\n",
            "32    46056\n",
            "33    48557\n",
            "34    51524\n",
            "35    49768\n",
            "36    47516\n",
            "37    45482\n",
            "38    57490\n",
            "Name: REVENUE (in Million USD), dtype: int64\n"
          ],
          "name": "stdout"
        }
      ]
    },
    {
      "cell_type": "code",
      "metadata": {
        "id": "TMPVvCCvel9n"
      },
      "source": [
        "data_rel = pd.read_excel(r\"C:/Users/royal/Documents/Internship/samsung_rev.xlsx\")\n",
        "dates_rel = data_rel['YEAR']"
      ],
      "execution_count": null,
      "outputs": []
    },
    {
      "cell_type": "code",
      "metadata": {
        "id": "4xcDlBPmel9n"
      },
      "source": [
        "#'revenue = revenue.reindex(index=data.index[::-1])'"
      ],
      "execution_count": null,
      "outputs": []
    },
    {
      "cell_type": "code",
      "metadata": {
        "colab": {
          "base_uri": "https://localhost:8080/",
          "height": 711
        },
        "id": "2oqEhuYyel9n",
        "scrolled": false,
        "outputId": "7c9672b7-ffc7-4dd4-cae6-e449a68f91ee"
      },
      "source": [
        "fig, ax = plt.subplots()\n",
        "release = [0,4,8,11,16,19,23,24,28,29,31,33,36,37]\n",
        "release2 = [13,23,29,31,33,35,37]\n",
        "count=1\n",
        "#f = plt.figure()\n",
        "#f.set_figwidth(10)\n",
        "#f.set_figheight(7)\n",
        "plt.title(\"Samsung Revenue (2005-2020)\")\n",
        "plt.xlabel('Year')\n",
        "plt.ylabel('Revenue (in Million USD)')\n",
        "#plt.xticks(rotation=90)\n",
        "\n",
        "plt.legend() \n",
        "\n",
        "\n",
        "\n",
        "plt.plot(year, revenue)\n",
        "for rel in release:\n",
        "    plt.plot(year[rel], revenue[rel], 'go')\n",
        "    plt.annotate('%d'%count, (year[rel], revenue[rel]), textcoords=\"offset points\", xytext=(-1,6), ha='left', size=10, \n",
        "                 va='baseline')\n",
        "\n",
        "    count += 1\n",
        "    \n",
        "for rel in release2:\n",
        "    plt.plot(year[rel], revenue[rel], 'yo')\n",
        "    plt.annotate('%d'%count, (year[rel], revenue[rel]), textcoords=\"offset points\", xytext=(-2,5), ha='right', size=7, \n",
        "                 va='baseline')\n",
        "\n",
        "    count += 1    \n",
        "\n",
        "\n",
        "years = mdates.YearLocator()\n",
        "months = mdates.MonthLocator([3,6,9,12])\n",
        "monthsFmt = mdates.DateFormatter('%b') \n",
        "yearsFmt = mdates.DateFormatter('\\n\\n%Y')\n",
        "ax.xaxis.set_minor_locator(months)\n",
        "ax.xaxis.set_minor_formatter(monthsFmt)\n",
        "plt.setp(ax.xaxis.get_minorticklabels(), rotation=90, size = 7)\n",
        "ax.xaxis.set_major_locator(years)\n",
        "ax.xaxis.set_major_formatter(yearsFmt)\n"
      ],
      "execution_count": null,
      "outputs": [
        {
          "output_type": "stream",
          "text": [
            "No handles with labels found to put in legend.\n"
          ],
          "name": "stderr"
        }
      ]
    },
    {
      "cell_type": "code",
      "metadata": {
        "id": "-rwigAi9gkyo"
      },
      "source": [
        ""
      ],
      "execution_count": null,
      "outputs": []
    }
  ]
}