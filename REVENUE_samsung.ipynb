{
 "cells": [
  {
   "cell_type": "code",
   "execution_count": 15,
   "metadata": {},
   "outputs": [],
   "source": [
    "%matplotlib qt5"
   ]
  },
  {
   "cell_type": "code",
   "execution_count": 16,
   "metadata": {},
   "outputs": [],
   "source": [
    "import pandas as pd\n",
    "import matplotlib.pyplot as plt\n",
    "import matplotlib.dates as mdates\n",
    "from matplotlib.dates import DateFormatter\n",
    "import datetime"
   ]
  },
  {
   "cell_type": "code",
   "execution_count": 17,
   "metadata": {
    "scrolled": true
   },
   "outputs": [
    {
     "name": "stdout",
     "output_type": "stream",
     "text": [
      "0    2021-03-31\n",
      "1    2020-12-31\n",
      "2    2020-09-30\n",
      "3    2020-06-30\n",
      "4    2020-03-31\n",
      "        ...    \n",
      "60   2006-03-31\n",
      "61   2005-12-31\n",
      "62   2005-09-30\n",
      "63   2005-06-30\n",
      "64   2005-03-31\n",
      "Name: Date, Length: 65, dtype: datetime64[ns] 0      89584\n",
      "1     111439\n",
      "2      64698\n",
      "3      59685\n",
      "4      58313\n",
      "       ...  \n",
      "60      4359\n",
      "61      5749\n",
      "62      3678\n",
      "63      3520\n",
      "64      3243\n",
      "Name: Revenue, Length: 65, dtype: int64\n"
     ]
    }
   ],
   "source": [
    "data = pd.read_excel('apple_rev.xlsx')\n",
    "\n",
    "dates = data['Date']\n",
    "revenue = data['Revenue']\n",
    "print(dates, revenue)"
   ]
  },
  {
   "cell_type": "code",
   "execution_count": 18,
   "metadata": {},
   "outputs": [],
   "source": [
    "data_rel = pd.read_excel('apple_release1.xlsx')\n",
    "dates_rel = data_rel['Date']"
   ]
  },
  {
   "cell_type": "code",
   "execution_count": 19,
   "metadata": {},
   "outputs": [
    {
     "data": {
      "text/plain": [
       "'revenue = revenue.reindex(index=data.index[::-1])'"
      ]
     },
     "execution_count": 19,
     "metadata": {},
     "output_type": "execute_result"
    }
   ],
   "source": [
    "'revenue = revenue.reindex(index=data.index[::-1])'"
   ]
  },
  {
   "cell_type": "code",
   "execution_count": 22,
   "metadata": {
    "scrolled": false
   },
   "outputs": [
    {
     "name": "stderr",
     "output_type": "stream",
     "text": [
      "No handles with labels found to put in legend.\n"
     ]
    }
   ],
   "source": [
    "fig, ax = plt.subplots()\n",
    "release = [51,44,38,34,30,27,22,18,14,10,6,2]\n",
    "count=1\n",
    "ax.set_ylabel('Revenue in Millions', fontsize = 10) \n",
    "ax.set_title('Apple Revenue (2005-2021)',fontweight=\"bold\", size=20)\n",
    "ax.set_xlabel('Year (Quarters)', fontsize = 10)\n",
    "\n",
    "plt.xticks(fontsize=7)\n",
    "\n",
    "plt.plot(dates, revenue)\n",
    "for rel in release:\n",
    "    plt.plot(dates[rel], revenue[rel], 'go')\n",
    "    plt.annotate('%d'%count, (dates[rel], revenue[rel]), textcoords=\"offset points\", xytext=(-2,5), ha='center', size=7, \n",
    "                 va='baseline')\n",
    "    count += 1\n",
    "    \n",
    "\n",
    "plt.legend() \n",
    "\n",
    "\n",
    "\n",
    "\n",
    "years = mdates.YearLocator()\n",
    "months = mdates.MonthLocator([3,6,9,12])\n",
    "monthsFmt = mdates.DateFormatter('%b') \n",
    "yearsFmt = mdates.DateFormatter('\\n\\n%Y')\n",
    "ax.xaxis.set_minor_locator(months)\n",
    "ax.xaxis.set_minor_formatter(monthsFmt)\n",
    "plt.setp(ax.xaxis.get_minorticklabels(), rotation=90, size = 5)\n",
    "ax.xaxis.set_major_locator(years)\n",
    "ax.xaxis.set_major_formatter(yearsFmt)\n"
   ]
  },
  {
   "cell_type": "code",
   "execution_count": 21,
   "metadata": {},
   "outputs": [],
   "source": [
    "### insert addition of releases\n",
    "### figure out quartiles\n"
   ]
  }
 ],
 "metadata": {
  "kernelspec": {
   "display_name": "Python 3",
   "language": "python",
   "name": "python3"
  },
  "language_info": {
   "codemirror_mode": {
    "name": "ipython",
    "version": 3
   },
   "file_extension": ".py",
   "mimetype": "text/x-python",
   "name": "python",
   "nbconvert_exporter": "python",
   "pygments_lexer": "ipython3",
   "version": "3.7.6"
  }
 },
 "nbformat": 4,
 "nbformat_minor": 4
}
